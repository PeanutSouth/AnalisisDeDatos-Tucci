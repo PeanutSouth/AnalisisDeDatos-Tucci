{
  "nbformat": 4,
  "nbformat_minor": 0,
  "metadata": {
    "colab": {
      "provenance": [],
      "authorship_tag": "ABX9TyM+FB8OCZo3FnaHnhuuWbcs",
      "include_colab_link": true
    },
    "kernelspec": {
      "name": "python3",
      "display_name": "Python 3"
    },
    "language_info": {
      "name": "python"
    }
  },
  "cells": [
    {
      "cell_type": "markdown",
      "metadata": {
        "id": "view-in-github",
        "colab_type": "text"
      },
      "source": [
        "<a href=\"https://colab.research.google.com/github/PeanutSouth/AnalisisDeDatos-Tucci/blob/main/Ejercicio2-Analisis.ipynb.ipynb\" target=\"_parent\"><img src=\"https://colab.research.google.com/assets/colab-badge.svg\" alt=\"Open In Colab\"/></a>"
      ]
    },
    {
      "cell_type": "code",
      "execution_count": null,
      "metadata": {
        "id": "rOPBXE9xv-uB",
        "colab": {
          "base_uri": "https://localhost:8080/"
        },
        "outputId": "ab87a0c1-a41f-461d-aa5a-4888ce59cabe"
      },
      "outputs": [
        {
          "output_type": "stream",
          "name": "stdout",
          "text": [
            "    gender race_ethnicity parental_level_of_education         lunch  \\\n",
            "0        F              B           bachelor's degree      standard   \n",
            "1        F              C                some college      standard   \n",
            "2        F              B             master's degree      standard   \n",
            "3        M              A          associate's degree  free/reduced   \n",
            "4        M              C                some college      standard   \n",
            "..     ...            ...                         ...           ...   \n",
            "995      F              E             master's degree      standard   \n",
            "996      M              C                 high school  free/reduced   \n",
            "997      F              C                 high school  free/reduced   \n",
            "998      F              D                some college      standard   \n",
            "999      F              D                some college  free/reduced   \n",
            "\n",
            "     test_preparation_course math_score reading_score writing_score  \n",
            "0                      False         72            72            74  \n",
            "1                       True         69            90            88  \n",
            "2                      False         90            95            93  \n",
            "3                      False     Failed            57        Failed  \n",
            "4                      False         76            78            75  \n",
            "..                       ...        ...           ...           ...  \n",
            "995                     True         88            99            95  \n",
            "996                    False         62            55            55  \n",
            "997                     True         59            71            65  \n",
            "998                     True         68            78            77  \n",
            "999                    False         77            86            86  \n",
            "\n",
            "[1000 rows x 8 columns]\n"
          ]
        }
      ],
      "source": [
        "import pandas as pd\n",
        "import numpy as np\n",
        "\n",
        "\n",
        "def arreglar_columnas(columnas):\n",
        "  for i in range(len(columnas)):\n",
        "      columnas[i] = columnas[i].replace(\" \",\"\")\n",
        "  return columnas\n",
        "\n",
        "def resolver_espacios(valor):\n",
        "  valor = str(valor)\n",
        "  if valor[0] == ' ':\n",
        "        valor = valor[1:]\n",
        "  if valor == '':\n",
        "       valor = np.nan\n",
        "  if valor == 'nan':\n",
        "       valor = np.nan\n",
        "  return valor\n",
        "\n",
        "def clean_gender(valor):\n",
        "    valor = str(valor)\n",
        "    if valor.lower() == \"female\":\n",
        "      valor = \"F\"\n",
        "    elif valor.lower() == \"male\":\n",
        "      valor = \"M\"\n",
        "    elif valor.lower() != \"F\" or valor.lower() != \"M\":\n",
        "      valor = None\n",
        "    return valor\n",
        "def clean_ethnicity(valor):\n",
        "    valor = str(valor)\n",
        "    if valor[len(valor)-1] == \"A\":\n",
        "      valor = \"A\"\n",
        "    elif valor[len(valor)-1] == \"B\":\n",
        "      valor = \"B\"\n",
        "    elif valor[len(valor)-1] == \"C\":\n",
        "      valor = \"C\"\n",
        "    elif valor[len(valor)-1] == \"D\":\n",
        "      valor = \"D\"\n",
        "    elif valor[len(valor)-1] == \"E\":\n",
        "      valor = \"E\"\n",
        "    else :\n",
        "      valor = None\n",
        "    return valor\n",
        "def clean_test(valor):\n",
        "    valor = str(valor)\n",
        "    if valor.lower() == \"completed\":\n",
        "      valor = True\n",
        "    else :\n",
        "      valor = False\n",
        "    return valor\n",
        "def desaprobar(valor):\n",
        "    valor = int(valor)\n",
        "    valorAux = redondear(valor)\n",
        "    if valorAux < 60:\n",
        "      valor = \"Failed\"\n",
        "    return valor\n",
        "\n",
        "def redondear(valor):\n",
        "    return round(valor/10) * 10\n",
        "\n",
        "\n",
        "\n",
        "\n",
        "\n",
        "csv = pd.read_csv(\"study_performance.csv\")\n",
        "csvColumnas = list(csv.columns)\n",
        "\n",
        "csv.columns = arreglar_columnas(csvColumnas)\n",
        "csv = csv.applymap(resolver_espacios)\n",
        "\n",
        "\n",
        "\n",
        "csv[\"gender\"] = csv[\"gender\"].apply(clean_gender)\n",
        "\n",
        "csv[\"race_ethnicity\"] = csv[\"race_ethnicity\"].apply(clean_ethnicity)\n",
        "\n",
        "csv[\"test_preparation_course\"] = csv[\"test_preparation_course\"].apply(clean_test)\n",
        "\n",
        "csv['math_score'] = csv['math_score'].apply(desaprobar)\n",
        "csv[\"reading_score\"] = csv[\"reading_score\"].apply(desaprobar)\n",
        "csv[\"writing_score\"] = csv[\"writing_score\"].apply(desaprobar)\n",
        "\n",
        "print(csv)\n",
        "\n",
        "# csv = csv.fillna(\"-\")\n",
        "\n",
        "#csv.dropna(inplace=True) # elimina las filas que contengan valores vacios\n",
        "# csv.dropna(how=\"all\") # elimina las filas si todos los valores son nulos\n"
      ]
    },
    {
      "cell_type": "markdown",
      "source": [],
      "metadata": {
        "id": "06BU69DS2609"
      }
    }
  ]
}