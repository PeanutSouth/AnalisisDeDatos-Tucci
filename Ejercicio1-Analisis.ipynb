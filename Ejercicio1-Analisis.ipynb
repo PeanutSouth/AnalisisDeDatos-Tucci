{
  "nbformat": 4,
  "nbformat_minor": 0,
  "metadata": {
    "colab": {
      "provenance": [],
      "authorship_tag": "ABX9TyMd7IfeR/qEGOwWHzI1nTf2"
    },
    "kernelspec": {
      "name": "python3",
      "display_name": "Python 3"
    },
    "language_info": {
      "name": "python"
    }
  },
  "cells": [
    {
      "cell_type": "code",
      "source": [
        "lista = []\n",
        "listaCorregida = []\n",
        "word = input()\n",
        "\n",
        "while word != \"fin\":\n",
        "  lista.append(word)\n",
        "  word = input()\n",
        "\n",
        "def borrarEspacios(lista):\n",
        "  for palabra in lista:\n",
        "    listaCorregida.append(palabra.replace(\" \", \"\"))\n",
        "  return listaCorregida\n",
        "\n",
        "lista = borrarEspacios(lista)\n",
        "print(listaCorregida)"
      ],
      "metadata": {
        "colab": {
          "base_uri": "https://localhost:8080/"
        },
        "id": "W7IjYOTc2l3X",
        "outputId": "85f57fb6-d544-479b-f719-d97db365856f"
      },
      "execution_count": 2,
      "outputs": [
        {
          "output_type": "stream",
          "name": "stdout",
          "text": [
            "hola\n",
            "h ola\n",
            "ho la\n",
            "hol a\n",
            "hola   \n",
            "h o l a aaa     a\n",
            "fin\n",
            "['hola', 'hola', 'hola', 'hola', 'hola', 'holaaaaa']\n"
          ]
        }
      ]
    }
  ]
}